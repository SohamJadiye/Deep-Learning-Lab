{
 "cells": [
  {
   "cell_type": "code",
   "execution_count": 62,
   "id": "5d0e6422",
   "metadata": {},
   "outputs": [],
   "source": [
    "import pandas as pd\n",
    "import numpy as pd\n",
    "import tensorflow as tf\n",
    "from tensorflow import keras\n",
    "from keras import Sequential\n",
    "from keras.layers import Dense,Flatten,Dropout"
   ]
  },
  {
   "cell_type": "code",
   "execution_count": 63,
   "id": "a6eac9db",
   "metadata": {},
   "outputs": [],
   "source": [
    "from tensorflow.keras.datasets import mnist\n",
    "(X_train,Y_train),(X_test,Y_test) = mnist.load_data()\n",
    "X_train, X_test = X_train / 255.0, X_test / 255.0"
   ]
  },
  {
   "cell_type": "code",
   "execution_count": 64,
   "id": "15c3baa2",
   "metadata": {},
   "outputs": [
    {
     "data": {
      "text/plain": [
       "(60000, 28, 28)"
      ]
     },
     "execution_count": 64,
     "metadata": {},
     "output_type": "execute_result"
    }
   ],
   "source": [
    "X_train.shape"
   ]
  },
  {
   "cell_type": "code",
   "execution_count": 65,
   "id": "c9026a79",
   "metadata": {},
   "outputs": [],
   "source": [
    "model = Sequential()\n",
    "model.add(Flatten(input_shape=(28, 28)))\n",
    "model.add(Dense(128, activation='relu'))\n",
    "model.add(Dropout(0.2))\n",
    "model.add(Dense(10, activation='softmax'))"
   ]
  },
  {
   "cell_type": "code",
   "execution_count": 66,
   "id": "0d043780",
   "metadata": {},
   "outputs": [],
   "source": [
    "#Stochastic Gradient Des"
   ]
  },
  {
   "cell_type": "code",
   "execution_count": 67,
   "id": "204dbccc",
   "metadata": {},
   "outputs": [],
   "source": [
    "optimizer = keras.optimizers.SGD(learning_rate=0.1)\n",
    "model.compile(loss='sparse_categorical_crossentropy',optimizer=optimizer,metrics=['accuracy'])"
   ]
  },
  {
   "cell_type": "code",
   "execution_count": 68,
   "id": "be8190f6",
   "metadata": {},
   "outputs": [
    {
     "name": "stdout",
     "output_type": "stream",
     "text": [
      "Epoch 1/10\n",
      "1875/1875 [==============================] - 4s 2ms/step - loss: 0.3329 - accuracy: 0.9030 - val_loss: 0.1646 - val_accuracy: 0.9514\n",
      "Epoch 2/10\n",
      "1875/1875 [==============================] - 3s 1ms/step - loss: 0.1683 - accuracy: 0.9514 - val_loss: 0.1153 - val_accuracy: 0.9678\n",
      "Epoch 3/10\n",
      "1875/1875 [==============================] - 3s 1ms/step - loss: 0.1310 - accuracy: 0.9619 - val_loss: 0.1016 - val_accuracy: 0.9721\n",
      "Epoch 4/10\n",
      "1875/1875 [==============================] - 3s 1ms/step - loss: 0.1102 - accuracy: 0.9668 - val_loss: 0.0910 - val_accuracy: 0.9727\n",
      "Epoch 5/10\n",
      "1875/1875 [==============================] - 3s 1ms/step - loss: 0.0966 - accuracy: 0.9708 - val_loss: 0.0835 - val_accuracy: 0.9746\n",
      "Epoch 6/10\n",
      "1875/1875 [==============================] - 3s 1ms/step - loss: 0.0871 - accuracy: 0.9738 - val_loss: 0.0775 - val_accuracy: 0.9774\n",
      "Epoch 7/10\n",
      "1875/1875 [==============================] - 3s 1ms/step - loss: 0.0784 - accuracy: 0.9763 - val_loss: 0.0757 - val_accuracy: 0.9767\n",
      "Epoch 8/10\n",
      "1875/1875 [==============================] - 3s 1ms/step - loss: 0.0704 - accuracy: 0.9787 - val_loss: 0.0752 - val_accuracy: 0.9779\n",
      "Epoch 9/10\n",
      "1875/1875 [==============================] - 3s 1ms/step - loss: 0.0665 - accuracy: 0.9791 - val_loss: 0.0692 - val_accuracy: 0.9792\n",
      "Epoch 10/10\n",
      "1875/1875 [==============================] - 3s 1ms/step - loss: 0.0610 - accuracy: 0.9811 - val_loss: 0.0676 - val_accuracy: 0.9789\n"
     ]
    },
    {
     "data": {
      "text/plain": [
       "<keras.callbacks.History at 0x25e3eb9c640>"
      ]
     },
     "execution_count": 68,
     "metadata": {},
     "output_type": "execute_result"
    }
   ],
   "source": [
    "model.fit(X_train, Y_train, validation_data=(X_test, Y_test), epochs=10)"
   ]
  },
  {
   "cell_type": "code",
   "execution_count": 69,
   "id": "793cd394",
   "metadata": {},
   "outputs": [],
   "source": [
    "#Stochastic Gradient Descent with Momentum"
   ]
  },
  {
   "cell_type": "code",
   "execution_count": 70,
   "id": "26c53206",
   "metadata": {},
   "outputs": [],
   "source": [
    "optimizer1 = keras.optimizers.SGD(learning_rate=0.1,momentum=0.9)\n",
    "model.compile(loss='sparse_categorical_crossentropy',optimizer=optimizer1,metrics=['accuracy'])"
   ]
  },
  {
   "cell_type": "code",
   "execution_count": 71,
   "id": "05682a6c",
   "metadata": {},
   "outputs": [
    {
     "name": "stdout",
     "output_type": "stream",
     "text": [
      "Epoch 1/10\n",
      "1875/1875 [==============================] - 3s 2ms/step - loss: 0.3515 - accuracy: 0.9009 - val_loss: 0.2306 - val_accuracy: 0.9454\n",
      "Epoch 2/10\n",
      "1875/1875 [==============================] - 3s 2ms/step - loss: 0.2798 - accuracy: 0.9259 - val_loss: 0.1959 - val_accuracy: 0.9506\n",
      "Epoch 3/10\n",
      "1875/1875 [==============================] - 3s 1ms/step - loss: 0.2586 - accuracy: 0.9337 - val_loss: 0.2126 - val_accuracy: 0.9490\n",
      "Epoch 4/10\n",
      "1875/1875 [==============================] - 3s 1ms/step - loss: 0.2415 - accuracy: 0.9391 - val_loss: 0.1625 - val_accuracy: 0.9620\n",
      "Epoch 5/10\n",
      "1875/1875 [==============================] - 3s 2ms/step - loss: 0.2200 - accuracy: 0.9452 - val_loss: 0.1891 - val_accuracy: 0.9560\n",
      "Epoch 6/10\n",
      "1875/1875 [==============================] - 3s 1ms/step - loss: 0.2160 - accuracy: 0.9462 - val_loss: 0.2079 - val_accuracy: 0.9558\n",
      "Epoch 7/10\n",
      "1875/1875 [==============================] - 3s 1ms/step - loss: 0.2066 - accuracy: 0.9491 - val_loss: 0.2000 - val_accuracy: 0.9537\n",
      "Epoch 8/10\n",
      "1875/1875 [==============================] - 3s 2ms/step - loss: 0.1919 - accuracy: 0.9532 - val_loss: 0.1735 - val_accuracy: 0.9646\n",
      "Epoch 9/10\n",
      "1875/1875 [==============================] - 3s 2ms/step - loss: 0.1945 - accuracy: 0.9548 - val_loss: 0.2085 - val_accuracy: 0.9542\n",
      "Epoch 10/10\n",
      "1875/1875 [==============================] - 3s 1ms/step - loss: 0.1830 - accuracy: 0.9560 - val_loss: 0.1934 - val_accuracy: 0.9632\n"
     ]
    },
    {
     "data": {
      "text/plain": [
       "<keras.callbacks.History at 0x25e303c39a0>"
      ]
     },
     "execution_count": 71,
     "metadata": {},
     "output_type": "execute_result"
    }
   ],
   "source": [
    "model.fit(X_train, Y_train, validation_data=(X_test, Y_test), epochs=10)"
   ]
  },
  {
   "cell_type": "code",
   "execution_count": 72,
   "id": "1adbd75a",
   "metadata": {},
   "outputs": [],
   "source": [
    "#Nesterov Accelarated Gradient(NAG)"
   ]
  },
  {
   "cell_type": "code",
   "execution_count": 73,
   "id": "cc23de60",
   "metadata": {},
   "outputs": [
    {
     "name": "stdout",
     "output_type": "stream",
     "text": [
      "Epoch 1/10\n",
      "1875/1875 [==============================] - 3s 2ms/step - loss: 0.1734 - accuracy: 0.9584 - val_loss: 0.1835 - val_accuracy: 0.9634\n",
      "Epoch 2/10\n",
      "1875/1875 [==============================] - 3s 2ms/step - loss: 0.1729 - accuracy: 0.9598 - val_loss: 0.1777 - val_accuracy: 0.9679\n",
      "Epoch 3/10\n",
      "1875/1875 [==============================] - 3s 2ms/step - loss: 0.1662 - accuracy: 0.9609 - val_loss: 0.1869 - val_accuracy: 0.9679\n",
      "Epoch 4/10\n",
      "1875/1875 [==============================] - 3s 2ms/step - loss: 0.1558 - accuracy: 0.9624 - val_loss: 0.1951 - val_accuracy: 0.9671\n",
      "Epoch 5/10\n",
      "1875/1875 [==============================] - 3s 2ms/step - loss: 0.1582 - accuracy: 0.9633 - val_loss: 0.2266 - val_accuracy: 0.9625\n",
      "Epoch 6/10\n",
      "1875/1875 [==============================] - 3s 2ms/step - loss: 0.1487 - accuracy: 0.9653 - val_loss: 0.2242 - val_accuracy: 0.9666\n",
      "Epoch 7/10\n",
      "1875/1875 [==============================] - 3s 2ms/step - loss: 0.1535 - accuracy: 0.9650 - val_loss: 0.1935 - val_accuracy: 0.9679\n",
      "Epoch 8/10\n",
      "1875/1875 [==============================] - 3s 2ms/step - loss: 0.1416 - accuracy: 0.9666 - val_loss: 0.2149 - val_accuracy: 0.9664\n",
      "Epoch 9/10\n",
      "1875/1875 [==============================] - 3s 2ms/step - loss: 0.1490 - accuracy: 0.9666 - val_loss: 0.2203 - val_accuracy: 0.9674\n",
      "Epoch 10/10\n",
      "1875/1875 [==============================] - 3s 2ms/step - loss: 0.1515 - accuracy: 0.9659 - val_loss: 0.2074 - val_accuracy: 0.9681\n"
     ]
    },
    {
     "data": {
      "text/plain": [
       "<keras.callbacks.History at 0x25e38c29250>"
      ]
     },
     "execution_count": 73,
     "metadata": {},
     "output_type": "execute_result"
    }
   ],
   "source": [
    "optimizer3 = keras.optimizers.SGD(learning_rate=0.1, momentum=0.9, nesterov=True)\n",
    "model.compile(loss='sparse_categorical_crossentropy',optimizer=optimizer3,metrics=['accuracy'])\n",
    "model.fit(X_train, Y_train, validation_data=(X_test, Y_test), epochs=10)"
   ]
  },
  {
   "cell_type": "code",
   "execution_count": 74,
   "id": "093b5e80",
   "metadata": {},
   "outputs": [],
   "source": [
    "#Adam Optimizer"
   ]
  },
  {
   "cell_type": "code",
   "execution_count": 77,
   "id": "7003b056",
   "metadata": {},
   "outputs": [
    {
     "name": "stdout",
     "output_type": "stream",
     "text": [
      "Epoch 1/10\n",
      "1875/1875 [==============================] - 4s 2ms/step - loss: 1.4796 - accuracy: 0.4892 - val_loss: 1.2608 - val_accuracy: 0.6176\n",
      "Epoch 2/10\n",
      "1875/1875 [==============================] - 3s 2ms/step - loss: 1.3289 - accuracy: 0.5403 - val_loss: 1.1173 - val_accuracy: 0.6663\n",
      "Epoch 3/10\n",
      "1875/1875 [==============================] - 3s 2ms/step - loss: 1.1554 - accuracy: 0.6154 - val_loss: 0.9102 - val_accuracy: 0.7742\n",
      "Epoch 4/10\n",
      "1875/1875 [==============================] - 3s 2ms/step - loss: 1.0053 - accuracy: 0.6673 - val_loss: 0.8370 - val_accuracy: 0.8097\n",
      "Epoch 5/10\n",
      "1875/1875 [==============================] - 3s 2ms/step - loss: 0.9246 - accuracy: 0.6942 - val_loss: 0.7806 - val_accuracy: 0.8289\n",
      "Epoch 6/10\n",
      "1875/1875 [==============================] - 3s 2ms/step - loss: 0.8649 - accuracy: 0.7142 - val_loss: 0.7141 - val_accuracy: 0.8382\n",
      "Epoch 7/10\n",
      "1875/1875 [==============================] - 3s 2ms/step - loss: 0.8373 - accuracy: 0.7233 - val_loss: 0.7024 - val_accuracy: 0.8556\n",
      "Epoch 8/10\n",
      "1875/1875 [==============================] - 3s 2ms/step - loss: 0.7961 - accuracy: 0.7446 - val_loss: 0.6528 - val_accuracy: 0.8602\n",
      "Epoch 9/10\n",
      "1875/1875 [==============================] - 3s 2ms/step - loss: 0.7627 - accuracy: 0.7551 - val_loss: 0.7014 - val_accuracy: 0.8683\n",
      "Epoch 10/10\n",
      "1875/1875 [==============================] - 3s 2ms/step - loss: 0.7410 - accuracy: 0.7652 - val_loss: 0.6537 - val_accuracy: 0.8614\n"
     ]
    },
    {
     "data": {
      "text/plain": [
       "<keras.callbacks.History at 0x25e39d0f5e0>"
      ]
     },
     "execution_count": 77,
     "metadata": {},
     "output_type": "execute_result"
    }
   ],
   "source": [
    "optimizer4 = keras.optimizers.Adam(learning_rate=0.01)\n",
    "model.compile(loss='sparse_categorical_crossentropy',optimizer=optimizer4,metrics=['accuracy'])\n",
    "model.fit(X_train, Y_train, validation_data=(X_test, Y_test), epochs=10)"
   ]
  },
  {
   "cell_type": "code",
   "execution_count": 81,
   "id": "57f23e8a",
   "metadata": {},
   "outputs": [
    {
     "name": "stdout",
     "output_type": "stream",
     "text": [
      "Epoch 1/10\n",
      "938/938 [==============================] - 2s 2ms/step - loss: 0.9198 - accuracy: 0.7132 - val_loss: 1.1026 - val_accuracy: 0.8259\n",
      "Epoch 2/10\n",
      "938/938 [==============================] - 2s 2ms/step - loss: 0.8081 - accuracy: 0.7367 - val_loss: 1.0308 - val_accuracy: 0.8326\n",
      "Epoch 3/10\n",
      "938/938 [==============================] - 2s 2ms/step - loss: 0.7743 - accuracy: 0.7474 - val_loss: 0.9808 - val_accuracy: 0.8462\n",
      "Epoch 4/10\n",
      "938/938 [==============================] - 2s 2ms/step - loss: 0.7425 - accuracy: 0.7560 - val_loss: 1.0713 - val_accuracy: 0.8521\n",
      "Epoch 5/10\n",
      "938/938 [==============================] - 2s 2ms/step - loss: 0.7120 - accuracy: 0.7647 - val_loss: 0.9977 - val_accuracy: 0.8637\n",
      "Epoch 6/10\n",
      "938/938 [==============================] - 2s 2ms/step - loss: 0.6943 - accuracy: 0.7757 - val_loss: 1.0367 - val_accuracy: 0.8735\n",
      "Epoch 7/10\n",
      "938/938 [==============================] - 2s 2ms/step - loss: 0.6770 - accuracy: 0.7798 - val_loss: 1.0287 - val_accuracy: 0.8772\n",
      "Epoch 8/10\n",
      "938/938 [==============================] - 2s 2ms/step - loss: 0.6590 - accuracy: 0.7838 - val_loss: 0.9896 - val_accuracy: 0.8801\n",
      "Epoch 9/10\n",
      "938/938 [==============================] - 2s 2ms/step - loss: 0.6518 - accuracy: 0.7883 - val_loss: 1.0046 - val_accuracy: 0.8840\n",
      "Epoch 10/10\n",
      "938/938 [==============================] - 2s 2ms/step - loss: 0.6400 - accuracy: 0.7920 - val_loss: 1.0411 - val_accuracy: 0.8845\n"
     ]
    },
    {
     "data": {
      "text/plain": [
       "<keras.callbacks.History at 0x25e3b483310>"
      ]
     },
     "execution_count": 81,
     "metadata": {},
     "output_type": "execute_result"
    }
   ],
   "source": [
    "#Mini Batch Gradient Descent with Adam optimizer\n",
    "optimizer4 = keras.optimizers.Adam(learning_rate=0.01)\n",
    "model.compile(loss='sparse_categorical_crossentropy',optimizer=optimizer4,metrics=['accuracy'])\n",
    "model.fit(X_train, Y_train, validation_data=(X_test, Y_test), epochs=10,batch_size=64)"
   ]
  },
  {
   "cell_type": "code",
   "execution_count": 85,
   "id": "aa113919",
   "metadata": {
    "scrolled": true
   },
   "outputs": [
    {
     "name": "stdout",
     "output_type": "stream",
     "text": [
      "Epoch 1/10\n",
      "1875/1875 [==============================] - 4s 2ms/step - loss: 0.5934 - accuracy: 0.8046 - val_loss: 1.0725 - val_accuracy: 0.8971\n",
      "Epoch 2/10\n",
      "1875/1875 [==============================] - 2s 1ms/step - loss: 0.5832 - accuracy: 0.8082 - val_loss: 1.0739 - val_accuracy: 0.8983\n",
      "Epoch 3/10\n",
      "1875/1875 [==============================] - 3s 1ms/step - loss: 0.5882 - accuracy: 0.8061 - val_loss: 1.0776 - val_accuracy: 0.8989\n",
      "Epoch 4/10\n",
      "1875/1875 [==============================] - 3s 1ms/step - loss: 0.5804 - accuracy: 0.8088 - val_loss: 1.0760 - val_accuracy: 0.8983\n",
      "Epoch 5/10\n",
      "1875/1875 [==============================] - 3s 2ms/step - loss: 0.5830 - accuracy: 0.8072 - val_loss: 1.0770 - val_accuracy: 0.8991\n",
      "Epoch 6/10\n",
      "1875/1875 [==============================] - 3s 2ms/step - loss: 0.5810 - accuracy: 0.8079 - val_loss: 1.0766 - val_accuracy: 0.8981\n",
      "Epoch 7/10\n",
      "1875/1875 [==============================] - 3s 1ms/step - loss: 0.5828 - accuracy: 0.8078 - val_loss: 1.0756 - val_accuracy: 0.8977\n",
      "Epoch 8/10\n",
      "1875/1875 [==============================] - 3s 1ms/step - loss: 0.5796 - accuracy: 0.8096 - val_loss: 1.0764 - val_accuracy: 0.8989\n",
      "Epoch 9/10\n",
      "1875/1875 [==============================] - 4s 2ms/step - loss: 0.5833 - accuracy: 0.8065 - val_loss: 1.0780 - val_accuracy: 0.8977\n",
      "Epoch 10/10\n",
      "1875/1875 [==============================] - 11s 6ms/step - loss: 0.5790 - accuracy: 0.8077 - val_loss: 1.0799 - val_accuracy: 0.8980\n"
     ]
    },
    {
     "data": {
      "text/plain": [
       "<keras.callbacks.History at 0x25e3b8f3130>"
      ]
     },
     "execution_count": 85,
     "metadata": {},
     "output_type": "execute_result"
    }
   ],
   "source": [
    "#AdaGrad Optimizer\n",
    "optimizer5 = keras.optimizers.Adagrad(learning_rate=0.01)\n",
    "model.compile(loss='sparse_categorical_crossentropy',optimizer=optimizer5,metrics=['accuracy'])\n",
    "model.fit(X_train, Y_train, validation_data=(X_test, Y_test), epochs=10)"
   ]
  },
  {
   "cell_type": "code",
   "execution_count": null,
   "id": "275400f1",
   "metadata": {},
   "outputs": [],
   "source": []
  }
 ],
 "metadata": {
  "kernelspec": {
   "display_name": "Python 3 (ipykernel)",
   "language": "python",
   "name": "python3"
  },
  "language_info": {
   "codemirror_mode": {
    "name": "ipython",
    "version": 3
   },
   "file_extension": ".py",
   "mimetype": "text/x-python",
   "name": "python",
   "nbconvert_exporter": "python",
   "pygments_lexer": "ipython3",
   "version": "3.9.7"
  }
 },
 "nbformat": 4,
 "nbformat_minor": 5
}
